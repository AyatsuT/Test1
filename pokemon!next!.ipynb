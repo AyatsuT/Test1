{
 "cells": [
  {
   "cell_type": "markdown",
   "id": "7e7cecd6",
   "metadata": {},
   "source": [
    "## Classes"
   ]
  },
  {
   "cell_type": "code",
   "execution_count": 6,
   "id": "d5cde69b",
   "metadata": {},
   "outputs": [],
   "source": [
    "class Dog:\n",
    "    def __init__(self, name):\n",
    "        self.name = name\n",
    "        self.legs = 4\n",
    "    \n",
    "    def speak(self):\n",
    "        print(self.name + ' says: Bark!')\n",
    "        \n"
   ]
  },
  {
   "cell_type": "code",
   "execution_count": 7,
   "id": "5b3dde35",
   "metadata": {},
   "outputs": [],
   "source": [
    "my_dog = Dog('Rover')\n",
    "another_dog = Dog('Fluffy')"
   ]
  },
  {
   "cell_type": "code",
   "execution_count": 8,
   "id": "ceed1af6",
   "metadata": {},
   "outputs": [
    {
     "name": "stdout",
     "output_type": "stream",
     "text": [
      "Rover says: Bark!\n"
     ]
    }
   ],
   "source": [
    "my_dog.speak()"
   ]
  },
  {
   "cell_type": "code",
   "execution_count": 9,
   "id": "b85ea67b",
   "metadata": {},
   "outputs": [
    {
     "name": "stdout",
     "output_type": "stream",
     "text": [
      "Fluffy says: Bark!\n"
     ]
    }
   ],
   "source": [
    "another_dog.speak()"
   ]
  },
  {
   "cell_type": "code",
   "execution_count": null,
   "id": "93be991c-5d5f-420a-9fae-76c10341fd42",
   "metadata": {},
   "outputs": [],
   "source": [
    "#NOTHING ---------------------------------------------------------------------------------"
   ]
  },
  {
   "cell_type": "code",
   "execution_count": 78,
   "id": "291f4adb-80f6-4a52-add3-8ed4bd7df628",
   "metadata": {},
   "outputs": [],
   "source": [
    "import os \n",
    "import random\n",
    "from IPython.display import clear_output\n",
    "\n",
    "class Pokemon:\n",
    "    def __init__(self,name,hp,atk,dfd,skill1,skl1_dmg,skill2,skl2_dmg,skill3,skl3_dmg,skill4,skl4_dmg):\n",
    "        self.name = name\n",
    "        self.hp = hp\n",
    "        self.atk = atk\n",
    "        self.dfd = dfd\n",
    "        self.skill1 = skill1\n",
    "        self.skl1_dmg = skl1_dmg\n",
    "        self.skill2 = skill2\n",
    "        self.skl2_dmg = skl2_dmg\n",
    "        self.skill3 = skill3\n",
    "        self.skl3_dmg = skl3_dmg\n",
    "        self.skill4 = skill4\n",
    "        self.skl4_dmg = skl4_dmg\n",
    "    \n",
    "    def status(self):\n",
    "        print(self.name + \"'s remaining hp is\", self.hp)"
   ]
  },
  {
   "cell_type": "code",
   "execution_count": 91,
   "id": "1ef991c4-1905-41b4-8926-267482195e21",
   "metadata": {},
   "outputs": [],
   "source": [
    "pokemon1 = Pokemon('ヒノアラシ',146,18,10,'すてみタックル',120,'ひのこ',40,'ころがる',30,'まるくなる',0)\n",
    "pokemon1.max_hp = 146\n",
    "#marukunaru:defend up+korogaru dmgx2\n",
    "#sutemitackle:120dmg+jibun 33%\n",
    "#ころがる:5 always use the same skill for 5 turns, dmg starts from 30,60,90,120... accuracy 90%\n",
    "\n",
    "pokemon2 = Pokemon('ルカリオ',600,30,10,'ボーンラッシュ',25,'まもる',0,'つるぎのまい',0,'はっけい',60)\n",
    "pokemon2.max_hp = 177\n",
    "#bonerush:(2-6)x25\n",
    "#mamoru:0 dmg"
   ]
  },
  {
   "cell_type": "markdown",
   "id": "5daa2f26-1a25-414c-aee4-48808cc9a448",
   "metadata": {},
   "source": []
  },
  {
   "cell_type": "code",
   "execution_count": 94,
   "id": "4ab0e131-ec73-4289-a52e-798ffd711013",
   "metadata": {},
   "outputs": [
    {
     "name": "stdout",
     "output_type": "stream",
     "text": [
      "\n",
      "----------------------------------TURN 1 ----------------------------------\n",
      "ヒノアラシ 's HP: -24 / 146\n",
      "\n",
      "ルカリオ 's HP: 474 / 177\n",
      "||||||||||||||||||||||||||||||||||||||||||||||||||||||||||||||||||||||||||||||||||||||||||||||||||||||||||||||||||||||||||||||||||||||||||||||||||||||||||||||||||||||||||||||||||||||||||||||||||||||||||||||||||||||||||||||||||||||||||||||||||||||||||||||||||||||||||||||||||||||||||||||||||||||||||||||||||||||||||||||||||||||||||||||||||||||||||||||||||||||||||||||||||||||||||||||||||||||||||||||||||||||||||||||||||||||||||||||||||||||||||||||||||||||||||||||||||||||||||\n",
      "\n",
      "---------------------------------- ヒノアラシの番です.----------------------------------\n",
      "Select your move:\n",
      "1. Normal Attack\n",
      "2. Skill\n",
      "3. Item\n",
      "4. Run\n"
     ]
    },
    {
     "name": "stdin",
     "output_type": "stream",
     "text": [
      "enter your choice:   1\n"
     ]
    },
    {
     "name": "stdout",
     "output_type": "stream",
     "text": [
      "ヒノアラシ dealt 8 damage to ルカリオ\n",
      "remaining  ルカリオ 's hp is 466 !\n",
      "\n",
      "..................................End Turn....................................\n",
      "ルカリオ win!\n"
     ]
    }
   ],
   "source": [
    "\n",
    "#add any additional skill info here\n",
    "#pokemon1.skill1\n",
    "pokemon1.skl1_side_effect = 40\n",
    "#pokemon1.skill3\n",
    "#while a<=5:\n",
    "a = 1\n",
    "b = 30\n",
    "    #pokemon1.skl3_dmg = pokemon1.skl3_dmg*a\n",
    "    #a = a+1\n",
    "\n",
    "x = 1\n",
    "\n",
    "while True:\n",
    "    #pokemon1_turn\n",
    "    print()\n",
    "    print('----------------------------------TURN', x,'----------------------------------')\n",
    "\n",
    "    print(pokemon1.name, \"'s HP:\",pokemon1.hp,'/',pokemon1.max_hp) \n",
    "    print(pokemon1.hp * '|')\n",
    "    print(pokemon2.name, \"'s HP:\",pokemon2.hp,'/',pokemon2.max_hp)\n",
    "    print(pokemon2.hp * '|')\n",
    "    print()\n",
    "\n",
    "    #skill3 loop\n",
    "    if 1<a<=5 :\n",
    "        print('----------------------------------',pokemon1.name + \"の番です.----------------------------------\")\n",
    "        print(pokemon1.name, 'used', pokemon1.skill3)\n",
    "        pokemon1.skl3_dmg = b*a\n",
    "        pokemon2.hp -= pokemon1.skl3_dmg - pokemon2.dfd\n",
    "        print(pokemon1.name, 'dealt', (pokemon1.skl3_dmg-pokemon2.dfd), 'damage to', pokemon2.name)\n",
    "        print(\"remaining \", pokemon2.name, \"'s hp is\", pokemon2.hp, '!')\n",
    "        a = a+1\n",
    "        print()\n",
    "        print()\n",
    "        \n",
    "        if pokemon2.hp <= 0 :\n",
    "            print(pokemon1.name, 'win!')\n",
    "            break    \n",
    "    \n",
    "    if a>6 or a==1 :    \n",
    "        print('----------------------------------',pokemon1.name + \"の番です.----------------------------------\")\n",
    "        print('Select your move:')\n",
    "        print('1. Normal Attack')\n",
    "        print('2. Skill')\n",
    "        print('3. Item')\n",
    "        print('4. Run')\n",
    "        choice = input('enter your choice:  ')\n",
    "    \n",
    "    \n",
    "    \n",
    "        if choice == '1' :\n",
    "            pokemon2.hp -= pokemon1.atk-pokemon2.dfd\n",
    "            print(pokemon1.name, 'dealt', (pokemon1.atk-pokemon2.dfd), 'damage to', pokemon2.name)\n",
    "            print(\"remaining \", pokemon2.name, \"'s hp is\", pokemon2.hp, '!')\n",
    "            print()\n",
    "            \n",
    "            if pokemon2.hp <= 0 :\n",
    "                print(pokemon1.name, 'win!')\n",
    "                break    \n",
    "                \n",
    "        #skill_description.....................................................................................\n",
    "        if choice == '2':\n",
    "            #pokemon1.skl_dmg = random.randint(10,30)\n",
    "            #skl1_dmg = pokemon1.skl1_dmg\n",
    "            print('Choose skill:')\n",
    "            print('A.',pokemon1.skill1)\n",
    "            print('B.',pokemon1.skill2)\n",
    "            print('C.',pokemon1.skill3)\n",
    "            print('D.',pokemon1.skill4)\n",
    "            choice = input('enter your choice:  ')\n",
    "            if choice == 'A':\n",
    "                pokemon2.hp -= pokemon1.skl1_dmg - pokemon2.dfd\n",
    "                print(pokemon1.name, 'used', pokemon1.skill1)\n",
    "                print(pokemon1.name, 'dealt', (pokemon1.skl1_dmg-pokemon2.dfd), 'damage to', pokemon2.name)\n",
    "                print(\"remaining \", pokemon2.name, \"'s hp is\", pokemon2.hp, '!')\n",
    "                print('...but!')\n",
    "                #need to work here\n",
    "        \n",
    "                #side_effect.........................................................\n",
    "                pokemon1.hp -= pokemon1.skl1_side_effect\n",
    "                print(pokemon1.name,'got hurt by using',pokemon1.skill1)\n",
    "                print(\"remaining \", pokemon1.name, \"'s hp is\", pokemon1.hp, '!')\n",
    "                print()\n",
    "                \n",
    "\n",
    "            if choice == 'B':\n",
    "                pokemon2.hp -= pokemon1.skl2_dmg - pokemon2.dfd\n",
    "                print(pokemon1.name, 'used', pokemon1.skill2)\n",
    "                print(pokemon1.name, 'dealt', (pokemon1.skl2_dmg-pokemon2.dfd), 'damage to', pokemon2.name)\n",
    "                print(\"remaining \", pokemon2.name, \"'s hp is\", pokemon2.hp, '!')\n",
    "    \n",
    "            if choice == 'C':\n",
    "                a=1\n",
    "                print(pokemon1.name, 'used', pokemon1.skill3)\n",
    "                pokemon1.skl3_dmg = b*a\n",
    "                pokemon2.hp -= pokemon1.skl3_dmg-pokemon2.dfd\n",
    "                print(pokemon1.name, 'dealt', (pokemon1.skl3_dmg-pokemon2.dfd), 'damage to', pokemon2.name)\n",
    "                print(\"remaining \", pokemon2.name, \"'s hp is\", pokemon2.hp, '!')\n",
    "                a = a+1\n",
    "                print()\n",
    "\n",
    "            if choice == 'D':\n",
    "                print(pokemon1.name, 'used',pokemon1.skill4)\n",
    "                pokemon1.dfd = pokemon1.dfd*2\n",
    "                print(pokemon1.name,'Def has raised.')\n",
    "                b = b*2\n",
    "                print(pokemon1.name,'has charged up!')\n",
    "    \n",
    "                \n",
    "            \n",
    "            #pokemon2.hp -= pokemon1.skl1_dmg\n",
    "            #print(pokemon1.name, 'Used', pokemon1.skill1)\n",
    "            #print(pokemon1.name, 'dealt', pokemon1.skl1_dmg, 'damage to', pokemon2.name)\n",
    "            #print(\"remaining \", pokemon2.name, \"'s hp is\", pokemon2.hp, '!')\n",
    "            \n",
    "            \n",
    "            if pokemon2.hp <= 0 :\n",
    "                print(pokemon1.name, 'win!')\n",
    "                break\n",
    "        \n",
    "        if choice == '3':\n",
    "            heal_amount = 20\n",
    "            pokemon1.hp = min(pokemon1.hp + heal_amount, pokemon1.max_hp)\n",
    "            print(pokemon1.name, 'Used Small Potion')\n",
    "            print(\"remaining \", pokemon1.name, \"'s hp is\", pokemon1.hp, '!')\n",
    "            print()\n",
    "            \n",
    "        elif choice == '4' :\n",
    "            print(pokemon1.name, 'Run away.')\n",
    "            print()\n",
    "            break\n",
    "    print('..................................End Turn....................................')\n",
    "    \n",
    "    #pokemon2 turn\n",
    "    if pokemon1.hp <= 0 :\n",
    "                    print(pokemon2.name, 'win!')\n",
    "                    break\n",
    "        \n",
    "    print(pokemon1.name, \"'s HP:\",pokemon1.hp,'/',pokemon1.max_hp) \n",
    "    print(pokemon1.hp * '|')\n",
    "    print(pokemon2.name, \"'s HP:\",pokemon2.hp,'/',pokemon2.max_hp)\n",
    "    print(pokemon2.hp * '|')\n",
    "    print()\n",
    "\n",
    "    print('----------------------------------',pokemon2.name + \"の番です.----------------------------------\")\n",
    "    print('Select your move:')\n",
    "    print('1. Normal Attack')\n",
    "    print('2. Skill')\n",
    "    print('3. Item')\n",
    "    print('4. Run')\n",
    "    choice = input('enter your choice:  ')\n",
    "\n",
    "    if choice == '1' :\n",
    "        pokemon1.hp -= pokemon2.atk-pokemon1.dfd\n",
    "        print(pokemon2.name, 'dealt', (pokemon2.atk-pokemon1.dfd), 'damage to', pokemon1.name)\n",
    "        print(\"remaining \", pokemon1.name, \"'s hp is\", pokemon1.hp, '!')\n",
    "        print('..................................End Turn....................................')\n",
    "        print()\n",
    "        x = x+1\n",
    "\n",
    "        if pokemon1.hp <= 0 :\n",
    "            print(pokemon2.name, 'win!')\n",
    "            break\n",
    "\n",
    "    if choice == '2':\n",
    "            #pokemon1.skl_dmg = random.randint(10,30)\n",
    "            #skl1_dmg = pokemon1.skl1_dmg\n",
    "            print('Choose skill:')\n",
    "            print('A.',pokemon2.skill1)\n",
    "            print('B.',pokemon2.skill2)\n",
    "            print('C.',pokemon2.skill3)\n",
    "            print('D.',pokemon2.skill4)\n",
    "            choice = input('enter your choice:  ')\n",
    "            if choice == 'A':\n",
    "                no_hits = (random.randint(2,6))\n",
    "                pokemon1.hp -= (pokemon2.skl1_dmg*no_hits) - pokemon1.dfd\n",
    "                print(pokemon2.name, 'used', pokemon2.skill1)\n",
    "                print(pokemon2.name, 'hits', no_hits,'times')\n",
    "                print(pokemon2.name,'dealt',(pokemon2.skl1_dmg*no_hits-pokemon2.dfd),'damage to',pokemon1.name)\n",
    "                print(\"remaining \", pokemon1.name, \"'s hp is\", pokemon1.hp, '!')\n",
    "            \n",
    "\n",
    "    elif choice == '4' :\n",
    "        print(pokemon2.name, 'Run away.')\n",
    "        break\n",
    "            \n",
    "    elif choice == 'End' :\n",
    "        print('good game!')\n",
    "        break\n"
   ]
  },
  {
   "cell_type": "code",
   "execution_count": 5,
   "id": "10efaeda-3b85-4f3e-ae51-39800793d8c0",
   "metadata": {},
   "outputs": [
    {
     "name": "stdout",
     "output_type": "stream",
     "text": [
      "17\n"
     ]
    }
   ],
   "source": [
    "skl_dmg = random.randint(10,50)\n",
    "print(skl_dmg)"
   ]
  },
  {
   "cell_type": "code",
   "execution_count": null,
   "id": "da022541-d81a-4b2d-9316-1217e0323b36",
   "metadata": {},
   "outputs": [],
   "source": []
  }
 ],
 "metadata": {
  "kernelspec": {
   "display_name": "Python 3 (ipykernel)",
   "language": "python",
   "name": "python3"
  },
  "language_info": {
   "codemirror_mode": {
    "name": "ipython",
    "version": 3
   },
   "file_extension": ".py",
   "mimetype": "text/x-python",
   "name": "python",
   "nbconvert_exporter": "python",
   "pygments_lexer": "ipython3",
   "version": "3.11.0"
  }
 },
 "nbformat": 4,
 "nbformat_minor": 5
}
